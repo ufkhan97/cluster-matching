{
 "cells": [
  {
   "cell_type": "code",
   "execution_count": 8,
   "metadata": {},
   "outputs": [],
   "source": [
    "import pandas as pd\n",
    "import qfutils"
   ]
  },
  {
   "cell_type": "code",
   "execution_count": 9,
   "metadata": {},
   "outputs": [
    {
     "data": {
      "text/html": [
       "<div>\n",
       "<style scoped>\n",
       "    .dataframe tbody tr th:only-of-type {\n",
       "        vertical-align: middle;\n",
       "    }\n",
       "\n",
       "    .dataframe tbody tr th {\n",
       "        vertical-align: top;\n",
       "    }\n",
       "\n",
       "    .dataframe thead th {\n",
       "        text-align: right;\n",
       "    }\n",
       "</style>\n",
       "<table border=\"1\" class=\"dataframe\">\n",
       "  <thead>\n",
       "    <tr style=\"text-align: right;\">\n",
       "      <th></th>\n",
       "      <th>voter</th>\n",
       "      <th>project_name</th>\n",
       "      <th>amount</th>\n",
       "    </tr>\n",
       "  </thead>\n",
       "  <tbody>\n",
       "    <tr>\n",
       "      <th>0</th>\n",
       "      <td>0x00000003389ff563957d53b23a72bdcddb6f388a</td>\n",
       "      <td>0xRivendell</td>\n",
       "      <td>0.844791</td>\n",
       "    </tr>\n",
       "    <tr>\n",
       "      <th>1</th>\n",
       "      <td>0x00000003389ff563957d53b23a72bdcddb6f388a</td>\n",
       "      <td>BayaniChain</td>\n",
       "      <td>0.844791</td>\n",
       "    </tr>\n",
       "    <tr>\n",
       "      <th>2</th>\n",
       "      <td>0x00000003389ff563957d53b23a72bdcddb6f388a</td>\n",
       "      <td>Lorefy</td>\n",
       "      <td>0.844791</td>\n",
       "    </tr>\n",
       "    <tr>\n",
       "      <th>3</th>\n",
       "      <td>0x00000003389ff563957d53b23a72bdcddb6f388a</td>\n",
       "      <td>Nodies</td>\n",
       "      <td>0.844791</td>\n",
       "    </tr>\n",
       "    <tr>\n",
       "      <th>4</th>\n",
       "      <td>0x00000003389ff563957d53b23a72bdcddb6f388a</td>\n",
       "      <td>OnChainVision</td>\n",
       "      <td>0.844791</td>\n",
       "    </tr>\n",
       "    <tr>\n",
       "      <th>...</th>\n",
       "      <td>...</td>\n",
       "      <td>...</td>\n",
       "      <td>...</td>\n",
       "    </tr>\n",
       "    <tr>\n",
       "      <th>23443</th>\n",
       "      <td>0xffd3003a187d9951e49bda206f32a6e765360427</td>\n",
       "      <td>SmartMuv (Dapp Explorer)</td>\n",
       "      <td>0.846515</td>\n",
       "    </tr>\n",
       "    <tr>\n",
       "      <th>23444</th>\n",
       "      <td>0xffd3003a187d9951e49bda206f32a6e765360427</td>\n",
       "      <td>THX Network</td>\n",
       "      <td>0.846515</td>\n",
       "    </tr>\n",
       "    <tr>\n",
       "      <th>23445</th>\n",
       "      <td>0xffe6d9d29480d0673c4fc46da22d21e245c8e731</td>\n",
       "      <td>Pheasant Network</td>\n",
       "      <td>8.532633</td>\n",
       "    </tr>\n",
       "    <tr>\n",
       "      <th>23446</th>\n",
       "      <td>0xffe8f2140dd8e2d10d4f86d57c79e84dde75212b</td>\n",
       "      <td>Porfo</td>\n",
       "      <td>59.946384</td>\n",
       "    </tr>\n",
       "    <tr>\n",
       "      <th>23447</th>\n",
       "      <td>0xfffb43b6b6048adc32ded4fcedc429b17e7ea72d</td>\n",
       "      <td>Mande Network</td>\n",
       "      <td>0.416471</td>\n",
       "    </tr>\n",
       "  </tbody>\n",
       "</table>\n",
       "<p>23448 rows × 3 columns</p>\n",
       "</div>"
      ],
      "text/plain": [
       "                                            voter              project_name  \\\n",
       "0      0x00000003389ff563957d53b23a72bdcddb6f388a               0xRivendell   \n",
       "1      0x00000003389ff563957d53b23a72bdcddb6f388a               BayaniChain   \n",
       "2      0x00000003389ff563957d53b23a72bdcddb6f388a                    Lorefy   \n",
       "3      0x00000003389ff563957d53b23a72bdcddb6f388a                    Nodies   \n",
       "4      0x00000003389ff563957d53b23a72bdcddb6f388a             OnChainVision   \n",
       "...                                           ...                       ...   \n",
       "23443  0xffd3003a187d9951e49bda206f32a6e765360427  SmartMuv (Dapp Explorer)   \n",
       "23444  0xffd3003a187d9951e49bda206f32a6e765360427               THX Network   \n",
       "23445  0xffe6d9d29480d0673c4fc46da22d21e245c8e731          Pheasant Network   \n",
       "23446  0xffe8f2140dd8e2d10d4f86d57c79e84dde75212b                    Porfo    \n",
       "23447  0xfffb43b6b6048adc32ded4fcedc429b17e7ea72d             Mande Network   \n",
       "\n",
       "          amount  \n",
       "0       0.844791  \n",
       "1       0.844791  \n",
       "2       0.844791  \n",
       "3       0.844791  \n",
       "4       0.844791  \n",
       "...          ...  \n",
       "23443   0.846515  \n",
       "23444   0.846515  \n",
       "23445   8.532633  \n",
       "23446  59.946384  \n",
       "23447   0.416471  \n",
       "\n",
       "[23448 rows x 3 columns]"
      ]
     },
     "execution_count": 9,
     "metadata": {},
     "output_type": "execute_result"
    }
   ],
   "source": [
    "MATCHING_AMOUNT = 30000000 # 30M OP \n",
    "\n",
    "# Load the data\n",
    "# Vote data is assumed to be in the format of: voter, project_name, amount\n",
    "file_prefix = 'sample_vote_data'\n",
    "df = pd.read_csv(f'{file_prefix}.csv')\n",
    "df\n"
   ]
  },
  {
   "cell_type": "code",
   "execution_count": 10,
   "metadata": {},
   "outputs": [
    {
     "data": {
      "text/html": [
       "<div>\n",
       "<style scoped>\n",
       "    .dataframe tbody tr th:only-of-type {\n",
       "        vertical-align: middle;\n",
       "    }\n",
       "\n",
       "    .dataframe tbody tr th {\n",
       "        vertical-align: top;\n",
       "    }\n",
       "\n",
       "    .dataframe thead th {\n",
       "        text-align: right;\n",
       "    }\n",
       "</style>\n",
       "<table border=\"1\" class=\"dataframe\">\n",
       "  <thead>\n",
       "    <tr style=\"text-align: right;\">\n",
       "      <th>project_name</th>\n",
       "      <th>0xRivendell</th>\n",
       "      <th>1Hive Gardens</th>\n",
       "      <th>BayaniChain</th>\n",
       "      <th>Citizen Wallet: an open source wallet with account abstraction for your community token</th>\n",
       "      <th>Commons Stack</th>\n",
       "      <th>DeCenter AI</th>\n",
       "      <th>Domin Network: Open Network for Retail powered by RE:DREAMER Lab</th>\n",
       "      <th>FlipGuard</th>\n",
       "      <th>Glo Dollar</th>\n",
       "      <th>Lorefy</th>\n",
       "      <th>...</th>\n",
       "      <th>Pheasant Network</th>\n",
       "      <th>Polygon ALT IDM</th>\n",
       "      <th>Polyzoa - Scam Defender</th>\n",
       "      <th>Porfo</th>\n",
       "      <th>Scale3</th>\n",
       "      <th>SmartMuv (Dapp Explorer)</th>\n",
       "      <th>THX Network</th>\n",
       "      <th>Unitap</th>\n",
       "      <th>jpnft</th>\n",
       "      <th>pier wallet - account abstraction infrastructure as a service</th>\n",
       "    </tr>\n",
       "    <tr>\n",
       "      <th>voter</th>\n",
       "      <th></th>\n",
       "      <th></th>\n",
       "      <th></th>\n",
       "      <th></th>\n",
       "      <th></th>\n",
       "      <th></th>\n",
       "      <th></th>\n",
       "      <th></th>\n",
       "      <th></th>\n",
       "      <th></th>\n",
       "      <th></th>\n",
       "      <th></th>\n",
       "      <th></th>\n",
       "      <th></th>\n",
       "      <th></th>\n",
       "      <th></th>\n",
       "      <th></th>\n",
       "      <th></th>\n",
       "      <th></th>\n",
       "      <th></th>\n",
       "      <th></th>\n",
       "    </tr>\n",
       "  </thead>\n",
       "  <tbody>\n",
       "    <tr>\n",
       "      <th>0x00000003389ff563957d53b23a72bdcddb6f388a</th>\n",
       "      <td>0.844791</td>\n",
       "      <td>0.000000</td>\n",
       "      <td>0.844791</td>\n",
       "      <td>0.000000</td>\n",
       "      <td>0.000000</td>\n",
       "      <td>0.000000</td>\n",
       "      <td>0.000000</td>\n",
       "      <td>0.000000</td>\n",
       "      <td>0.000000</td>\n",
       "      <td>0.844791</td>\n",
       "      <td>...</td>\n",
       "      <td>0.844791</td>\n",
       "      <td>0.0</td>\n",
       "      <td>0.844791</td>\n",
       "      <td>0.000000</td>\n",
       "      <td>0.844791</td>\n",
       "      <td>0.000000</td>\n",
       "      <td>0.844791</td>\n",
       "      <td>0.0</td>\n",
       "      <td>0.0</td>\n",
       "      <td>0.0</td>\n",
       "    </tr>\n",
       "    <tr>\n",
       "      <th>0x0000ce08fa224696a819877070bf378e8b131acf</th>\n",
       "      <td>0.000000</td>\n",
       "      <td>0.000000</td>\n",
       "      <td>0.000000</td>\n",
       "      <td>0.000000</td>\n",
       "      <td>0.000000</td>\n",
       "      <td>0.000000</td>\n",
       "      <td>0.000000</td>\n",
       "      <td>0.000000</td>\n",
       "      <td>0.000000</td>\n",
       "      <td>0.000000</td>\n",
       "      <td>...</td>\n",
       "      <td>0.000000</td>\n",
       "      <td>0.0</td>\n",
       "      <td>0.000000</td>\n",
       "      <td>0.000000</td>\n",
       "      <td>0.000000</td>\n",
       "      <td>0.000000</td>\n",
       "      <td>0.000000</td>\n",
       "      <td>0.0</td>\n",
       "      <td>0.0</td>\n",
       "      <td>0.0</td>\n",
       "    </tr>\n",
       "    <tr>\n",
       "      <th>0x0010b5c0cdbf7436e37ae7e5a3be85a0164db881</th>\n",
       "      <td>0.000000</td>\n",
       "      <td>0.000000</td>\n",
       "      <td>0.000000</td>\n",
       "      <td>0.000000</td>\n",
       "      <td>0.000000</td>\n",
       "      <td>0.000000</td>\n",
       "      <td>0.000000</td>\n",
       "      <td>0.000000</td>\n",
       "      <td>0.000000</td>\n",
       "      <td>1.620377</td>\n",
       "      <td>...</td>\n",
       "      <td>0.000000</td>\n",
       "      <td>0.0</td>\n",
       "      <td>0.000000</td>\n",
       "      <td>0.000000</td>\n",
       "      <td>0.000000</td>\n",
       "      <td>0.000000</td>\n",
       "      <td>0.000000</td>\n",
       "      <td>0.0</td>\n",
       "      <td>0.0</td>\n",
       "      <td>0.0</td>\n",
       "    </tr>\n",
       "    <tr>\n",
       "      <th>0x001c660c2677c3de3b639bca3819acaa16d195d6</th>\n",
       "      <td>1.543269</td>\n",
       "      <td>1.543269</td>\n",
       "      <td>0.000000</td>\n",
       "      <td>0.000000</td>\n",
       "      <td>0.000000</td>\n",
       "      <td>1.543269</td>\n",
       "      <td>0.000000</td>\n",
       "      <td>1.543269</td>\n",
       "      <td>0.000000</td>\n",
       "      <td>1.543269</td>\n",
       "      <td>...</td>\n",
       "      <td>1.543269</td>\n",
       "      <td>0.0</td>\n",
       "      <td>1.543269</td>\n",
       "      <td>0.000000</td>\n",
       "      <td>1.543269</td>\n",
       "      <td>1.543269</td>\n",
       "      <td>0.000000</td>\n",
       "      <td>0.0</td>\n",
       "      <td>0.0</td>\n",
       "      <td>0.0</td>\n",
       "    </tr>\n",
       "    <tr>\n",
       "      <th>0x002189c390ab583368e0ffa5bc5a0eb4a82906cd</th>\n",
       "      <td>0.000000</td>\n",
       "      <td>0.000000</td>\n",
       "      <td>1.100129</td>\n",
       "      <td>1.100129</td>\n",
       "      <td>1.100129</td>\n",
       "      <td>0.000000</td>\n",
       "      <td>1.100129</td>\n",
       "      <td>0.000000</td>\n",
       "      <td>1.100129</td>\n",
       "      <td>1.100129</td>\n",
       "      <td>...</td>\n",
       "      <td>0.000000</td>\n",
       "      <td>0.0</td>\n",
       "      <td>1.100129</td>\n",
       "      <td>1.100129</td>\n",
       "      <td>0.000000</td>\n",
       "      <td>0.000000</td>\n",
       "      <td>0.000000</td>\n",
       "      <td>0.0</td>\n",
       "      <td>0.0</td>\n",
       "      <td>0.0</td>\n",
       "    </tr>\n",
       "  </tbody>\n",
       "</table>\n",
       "<p>5 rows × 23 columns</p>\n",
       "</div>"
      ],
      "text/plain": [
       "project_name                                0xRivendell  1Hive Gardens  \\\n",
       "voter                                                                    \n",
       "0x00000003389ff563957d53b23a72bdcddb6f388a     0.844791       0.000000   \n",
       "0x0000ce08fa224696a819877070bf378e8b131acf     0.000000       0.000000   \n",
       "0x0010b5c0cdbf7436e37ae7e5a3be85a0164db881     0.000000       0.000000   \n",
       "0x001c660c2677c3de3b639bca3819acaa16d195d6     1.543269       1.543269   \n",
       "0x002189c390ab583368e0ffa5bc5a0eb4a82906cd     0.000000       0.000000   \n",
       "\n",
       "project_name                                BayaniChain  \\\n",
       "voter                                                     \n",
       "0x00000003389ff563957d53b23a72bdcddb6f388a     0.844791   \n",
       "0x0000ce08fa224696a819877070bf378e8b131acf     0.000000   \n",
       "0x0010b5c0cdbf7436e37ae7e5a3be85a0164db881     0.000000   \n",
       "0x001c660c2677c3de3b639bca3819acaa16d195d6     0.000000   \n",
       "0x002189c390ab583368e0ffa5bc5a0eb4a82906cd     1.100129   \n",
       "\n",
       "project_name                                Citizen Wallet: an open source wallet with account abstraction for your community token  \\\n",
       "voter                                                                                                                                 \n",
       "0x00000003389ff563957d53b23a72bdcddb6f388a                                           0.000000                                         \n",
       "0x0000ce08fa224696a819877070bf378e8b131acf                                           0.000000                                         \n",
       "0x0010b5c0cdbf7436e37ae7e5a3be85a0164db881                                           0.000000                                         \n",
       "0x001c660c2677c3de3b639bca3819acaa16d195d6                                           0.000000                                         \n",
       "0x002189c390ab583368e0ffa5bc5a0eb4a82906cd                                           1.100129                                         \n",
       "\n",
       "project_name                                Commons Stack  DeCenter AI  \\\n",
       "voter                                                                    \n",
       "0x00000003389ff563957d53b23a72bdcddb6f388a       0.000000     0.000000   \n",
       "0x0000ce08fa224696a819877070bf378e8b131acf       0.000000     0.000000   \n",
       "0x0010b5c0cdbf7436e37ae7e5a3be85a0164db881       0.000000     0.000000   \n",
       "0x001c660c2677c3de3b639bca3819acaa16d195d6       0.000000     1.543269   \n",
       "0x002189c390ab583368e0ffa5bc5a0eb4a82906cd       1.100129     0.000000   \n",
       "\n",
       "project_name                                Domin Network: Open Network for Retail powered by RE:DREAMER Lab  \\\n",
       "voter                                                                                                          \n",
       "0x00000003389ff563957d53b23a72bdcddb6f388a                                           0.000000                  \n",
       "0x0000ce08fa224696a819877070bf378e8b131acf                                           0.000000                  \n",
       "0x0010b5c0cdbf7436e37ae7e5a3be85a0164db881                                           0.000000                  \n",
       "0x001c660c2677c3de3b639bca3819acaa16d195d6                                           0.000000                  \n",
       "0x002189c390ab583368e0ffa5bc5a0eb4a82906cd                                           1.100129                  \n",
       "\n",
       "project_name                                FlipGuard  Glo Dollar    Lorefy  \\\n",
       "voter                                                                         \n",
       "0x00000003389ff563957d53b23a72bdcddb6f388a   0.000000    0.000000  0.844791   \n",
       "0x0000ce08fa224696a819877070bf378e8b131acf   0.000000    0.000000  0.000000   \n",
       "0x0010b5c0cdbf7436e37ae7e5a3be85a0164db881   0.000000    0.000000  1.620377   \n",
       "0x001c660c2677c3de3b639bca3819acaa16d195d6   1.543269    0.000000  1.543269   \n",
       "0x002189c390ab583368e0ffa5bc5a0eb4a82906cd   0.000000    1.100129  1.100129   \n",
       "\n",
       "project_name                                ...  Pheasant Network  \\\n",
       "voter                                       ...                     \n",
       "0x00000003389ff563957d53b23a72bdcddb6f388a  ...          0.844791   \n",
       "0x0000ce08fa224696a819877070bf378e8b131acf  ...          0.000000   \n",
       "0x0010b5c0cdbf7436e37ae7e5a3be85a0164db881  ...          0.000000   \n",
       "0x001c660c2677c3de3b639bca3819acaa16d195d6  ...          1.543269   \n",
       "0x002189c390ab583368e0ffa5bc5a0eb4a82906cd  ...          0.000000   \n",
       "\n",
       "project_name                                Polygon ALT IDM  \\\n",
       "voter                                                         \n",
       "0x00000003389ff563957d53b23a72bdcddb6f388a              0.0   \n",
       "0x0000ce08fa224696a819877070bf378e8b131acf              0.0   \n",
       "0x0010b5c0cdbf7436e37ae7e5a3be85a0164db881              0.0   \n",
       "0x001c660c2677c3de3b639bca3819acaa16d195d6              0.0   \n",
       "0x002189c390ab583368e0ffa5bc5a0eb4a82906cd              0.0   \n",
       "\n",
       "project_name                                Polyzoa - Scam Defender    Porfo   \\\n",
       "voter                                                                           \n",
       "0x00000003389ff563957d53b23a72bdcddb6f388a                 0.844791  0.000000   \n",
       "0x0000ce08fa224696a819877070bf378e8b131acf                 0.000000  0.000000   \n",
       "0x0010b5c0cdbf7436e37ae7e5a3be85a0164db881                 0.000000  0.000000   \n",
       "0x001c660c2677c3de3b639bca3819acaa16d195d6                 1.543269  0.000000   \n",
       "0x002189c390ab583368e0ffa5bc5a0eb4a82906cd                 1.100129  1.100129   \n",
       "\n",
       "project_name                                  Scale3  \\\n",
       "voter                                                  \n",
       "0x00000003389ff563957d53b23a72bdcddb6f388a  0.844791   \n",
       "0x0000ce08fa224696a819877070bf378e8b131acf  0.000000   \n",
       "0x0010b5c0cdbf7436e37ae7e5a3be85a0164db881  0.000000   \n",
       "0x001c660c2677c3de3b639bca3819acaa16d195d6  1.543269   \n",
       "0x002189c390ab583368e0ffa5bc5a0eb4a82906cd  0.000000   \n",
       "\n",
       "project_name                                SmartMuv (Dapp Explorer)  \\\n",
       "voter                                                                  \n",
       "0x00000003389ff563957d53b23a72bdcddb6f388a                  0.000000   \n",
       "0x0000ce08fa224696a819877070bf378e8b131acf                  0.000000   \n",
       "0x0010b5c0cdbf7436e37ae7e5a3be85a0164db881                  0.000000   \n",
       "0x001c660c2677c3de3b639bca3819acaa16d195d6                  1.543269   \n",
       "0x002189c390ab583368e0ffa5bc5a0eb4a82906cd                  0.000000   \n",
       "\n",
       "project_name                                THX Network  Unitap  jpnft  \\\n",
       "voter                                                                    \n",
       "0x00000003389ff563957d53b23a72bdcddb6f388a     0.844791     0.0    0.0   \n",
       "0x0000ce08fa224696a819877070bf378e8b131acf     0.000000     0.0    0.0   \n",
       "0x0010b5c0cdbf7436e37ae7e5a3be85a0164db881     0.000000     0.0    0.0   \n",
       "0x001c660c2677c3de3b639bca3819acaa16d195d6     0.000000     0.0    0.0   \n",
       "0x002189c390ab583368e0ffa5bc5a0eb4a82906cd     0.000000     0.0    0.0   \n",
       "\n",
       "project_name                                pier wallet - account abstraction infrastructure as a service  \n",
       "voter                                                                                                      \n",
       "0x00000003389ff563957d53b23a72bdcddb6f388a                                                0.0              \n",
       "0x0000ce08fa224696a819877070bf378e8b131acf                                                0.0              \n",
       "0x0010b5c0cdbf7436e37ae7e5a3be85a0164db881                                                0.0              \n",
       "0x001c660c2677c3de3b639bca3819acaa16d195d6                                                0.0              \n",
       "0x002189c390ab583368e0ffa5bc5a0eb4a82906cd                                                0.0              \n",
       "\n",
       "[5 rows x 23 columns]"
      ]
     },
     "execution_count": 10,
     "metadata": {},
     "output_type": "execute_result"
    }
   ],
   "source": [
    "votes_df = qfutils.pivot_votes(df)\n",
    "votes_df.head()"
   ]
  },
  {
   "cell_type": "code",
   "execution_count": 11,
   "metadata": {},
   "outputs": [
    {
     "name": "stdout",
     "output_type": "stream",
     "text": [
      "Intel MKL WARNING: Support of Intel(R) Streaming SIMD Extensions 4.2 (Intel(R) SSE4.2) enabled only processors has been deprecated. Intel oneAPI Math Kernel Library 2025.0 will require Intel(R) Advanced Vector Extensions (Intel(R) AVX) instructions.\n",
      "Intel MKL WARNING: Support of Intel(R) Streaming SIMD Extensions 4.2 (Intel(R) SSE4.2) enabled only processors has been deprecated. Intel oneAPI Math Kernel Library 2025.0 will require Intel(R) Advanced Vector Extensions (Intel(R) AVX) instructions.\n",
      "Intel MKL WARNING: Support of Intel(R) Streaming SIMD Extensions 4.2 (Intel(R) SSE4.2) enabled only processors has been deprecated. Intel oneAPI Math Kernel Library 2025.0 will require Intel(R) Advanced Vector Extensions (Intel(R) AVX) instructions.\n",
      "Intel MKL WARNING: Support of Intel(R) Streaming SIMD Extensions 4.2 (Intel(R) SSE4.2) enabled only processors has been deprecated. Intel oneAPI Math Kernel Library 2025.0 will require Intel(R) Advanced Vector Extensions (Intel(R) AVX) instructions.\n",
      "Intel MKL WARNING: Support of Intel(R) Streaming SIMD Extensions 4.2 (Intel(R) SSE4.2) enabled only processors has been deprecated. Intel oneAPI Math Kernel Library 2025.0 will require Intel(R) Advanced Vector Extensions (Intel(R) AVX) instructions.\n",
      "Intel MKL WARNING: Support of Intel(R) Streaming SIMD Extensions 4.2 (Intel(R) SSE4.2) enabled only processors has been deprecated. Intel oneAPI Math Kernel Library 2025.0 will require Intel(R) Advanced Vector Extensions (Intel(R) AVX) instructions.\n",
      "Intel MKL WARNING: Support of Intel(R) Streaming SIMD Extensions 4.2 (Intel(R) SSE4.2) enabled only processors has been deprecated. Intel oneAPI Math Kernel Library 2025.0 will require Intel(R) Advanced Vector Extensions (Intel(R) AVX) instructions.\n",
      "Intel MKL WARNING: Support of Intel(R) Streaming SIMD Extensions 4.2 (Intel(R) SSE4.2) enabled only processors has been deprecated. Intel oneAPI Math Kernel Library 2025.0 will require Intel(R) Advanced Vector Extensions (Intel(R) AVX) instructions.\n",
      "Intel MKL WARNING: Support of Intel(R) Streaming SIMD Extensions 4.2 (Intel(R) SSE4.2) enabled only processors has been deprecated. Intel oneAPI Math Kernel Library 2025.0 will require Intel(R) Advanced Vector Extensions (Intel(R) AVX) instructions.\n",
      "Intel MKL WARNING: Support of Intel(R) Streaming SIMD Extensions 4.2 (Intel(R) SSE4.2) enabled only processors has been deprecated. Intel oneAPI Math Kernel Library 2025.0 will require Intel(R) Advanced Vector Extensions (Intel(R) AVX) instructions.\n",
      "Intel MKL WARNING: Support of Intel(R) Streaming SIMD Extensions 4.2 (Intel(R) SSE4.2) enabled only processors has been deprecated. Intel oneAPI Math Kernel Library 2025.0 will require Intel(R) Advanced Vector Extensions (Intel(R) AVX) instructions.\n",
      "Intel MKL WARNING: Support of Intel(R) Streaming SIMD Extensions 4.2 (Intel(R) SSE4.2) enabled only processors has been deprecated. Intel oneAPI Math Kernel Library 2025.0 will require Intel(R) Advanced Vector Extensions (Intel(R) AVX) instructions.\n",
      "Intel MKL WARNING: Support of Intel(R) Streaming SIMD Extensions 4.2 (Intel(R) SSE4.2) enabled only processors has been deprecated. Intel oneAPI Math Kernel Library 2025.0 will require Intel(R) Advanced Vector Extensions (Intel(R) AVX) instructions.\n",
      "Intel MKL WARNING: Support of Intel(R) Streaming SIMD Extensions 4.2 (Intel(R) SSE4.2) enabled only processors has been deprecated. Intel oneAPI Math Kernel Library 2025.0 will require Intel(R) Advanced Vector Extensions (Intel(R) AVX) instructions.\n",
      "Intel MKL WARNING: Support of Intel(R) Streaming SIMD Extensions 4.2 (Intel(R) SSE4.2) enabled only processors has been deprecated. Intel oneAPI Math Kernel Library 2025.0 will require Intel(R) Advanced Vector Extensions (Intel(R) AVX) instructions.\n",
      "Intel MKL WARNING: Support of Intel(R) Streaming SIMD Extensions 4.2 (Intel(R) SSE4.2) enabled only processors has been deprecated. Intel oneAPI Math Kernel Library 2025.0 will require Intel(R) Advanced Vector Extensions (Intel(R) AVX) instructions.\n",
      "Intel MKL WARNING: Support of Intel(R) Streaming SIMD Extensions 4.2 (Intel(R) SSE4.2) enabled only processors has been deprecated. Intel oneAPI Math Kernel Library 2025.0 will require Intel(R) Advanced Vector Extensions (Intel(R) AVX) instructions.\n",
      "Intel MKL WARNING: Support of Intel(R) Streaming SIMD Extensions 4.2 (Intel(R) SSE4.2) enabled only processors has been deprecated. Intel oneAPI Math Kernel Library 2025.0 will require Intel(R) Advanced Vector Extensions (Intel(R) AVX) instructions.\n",
      "Intel MKL WARNING: Support of Intel(R) Streaming SIMD Extensions 4.2 (Intel(R) SSE4.2) enabled only processors has been deprecated. Intel oneAPI Math Kernel Library 2025.0 will require Intel(R) Advanced Vector Extensions (Intel(R) AVX) instructions.\n",
      "Intel MKL WARNING: Support of Intel(R) Streaming SIMD Extensions 4.2 (Intel(R) SSE4.2) enabled only processors has been deprecated. Intel oneAPI Math Kernel Library 2025.0 will require Intel(R) Advanced Vector Extensions (Intel(R) AVX) instructions.\n",
      "Intel MKL WARNING: Support of Intel(R) Streaming SIMD Extensions 4.2 (Intel(R) SSE4.2) enabled only processors has been deprecated. Intel oneAPI Math Kernel Library 2025.0 will require Intel(R) Advanced Vector Extensions (Intel(R) AVX) instructions.\n",
      "Intel MKL WARNING: Support of Intel(R) Streaming SIMD Extensions 4.2 (Intel(R) SSE4.2) enabled only processors has been deprecated. Intel oneAPI Math Kernel Library 2025.0 will require Intel(R) Advanced Vector Extensions (Intel(R) AVX) instructions.\n",
      "Intel MKL WARNING: Support of Intel(R) Streaming SIMD Extensions 4.2 (Intel(R) SSE4.2) enabled only processors has been deprecated. Intel oneAPI Math Kernel Library 2025.0 will require Intel(R) Advanced Vector Extensions (Intel(R) AVX) instructions.\n",
      "Intel MKL WARNING: Support of Intel(R) Streaming SIMD Extensions 4.2 (Intel(R) SSE4.2) enabled only processors has been deprecated. Intel oneAPI Math Kernel Library 2025.0 will require Intel(R) Advanced Vector Extensions (Intel(R) AVX) instructions.\n"
     ]
    },
    {
     "data": {
      "text/html": [
       "<div>\n",
       "<style scoped>\n",
       "    .dataframe tbody tr th:only-of-type {\n",
       "        vertical-align: middle;\n",
       "    }\n",
       "\n",
       "    .dataframe tbody tr th {\n",
       "        vertical-align: top;\n",
       "    }\n",
       "\n",
       "    .dataframe thead th {\n",
       "        text-align: right;\n",
       "    }\n",
       "</style>\n",
       "<table border=\"1\" class=\"dataframe\">\n",
       "  <thead>\n",
       "    <tr style=\"text-align: right;\">\n",
       "      <th></th>\n",
       "      <th>project_name</th>\n",
       "      <th>matching_amount_cocm</th>\n",
       "      <th>matching_percent_cocm</th>\n",
       "      <th>matching_amount_dpcm</th>\n",
       "      <th>matching_percent_dpcm</th>\n",
       "      <th>matching_amount</th>\n",
       "      <th>matching_percent</th>\n",
       "    </tr>\n",
       "  </thead>\n",
       "  <tbody>\n",
       "    <tr>\n",
       "      <th>0</th>\n",
       "      <td>0xRivendell</td>\n",
       "      <td>1.231376e+06</td>\n",
       "      <td>4.104586</td>\n",
       "      <td>1.272051e+06</td>\n",
       "      <td>4.240169</td>\n",
       "      <td>1.058334e+06</td>\n",
       "      <td>3.527781</td>\n",
       "    </tr>\n",
       "    <tr>\n",
       "      <th>1</th>\n",
       "      <td>1Hive Gardens</td>\n",
       "      <td>1.049499e+06</td>\n",
       "      <td>3.498329</td>\n",
       "      <td>8.541815e+05</td>\n",
       "      <td>2.847272</td>\n",
       "      <td>7.611473e+05</td>\n",
       "      <td>2.537158</td>\n",
       "    </tr>\n",
       "    <tr>\n",
       "      <th>2</th>\n",
       "      <td>BayaniChain</td>\n",
       "      <td>1.615340e+06</td>\n",
       "      <td>5.384466</td>\n",
       "      <td>1.334444e+06</td>\n",
       "      <td>4.448147</td>\n",
       "      <td>1.390506e+06</td>\n",
       "      <td>4.635021</td>\n",
       "    </tr>\n",
       "    <tr>\n",
       "      <th>3</th>\n",
       "      <td>Citizen Wallet: an open source wallet with acc...</td>\n",
       "      <td>1.209375e+06</td>\n",
       "      <td>4.031249</td>\n",
       "      <td>1.264694e+06</td>\n",
       "      <td>4.215647</td>\n",
       "      <td>9.840828e+05</td>\n",
       "      <td>3.280276</td>\n",
       "    </tr>\n",
       "    <tr>\n",
       "      <th>4</th>\n",
       "      <td>Commons Stack</td>\n",
       "      <td>1.460955e+06</td>\n",
       "      <td>4.869852</td>\n",
       "      <td>1.663964e+06</td>\n",
       "      <td>5.546546</td>\n",
       "      <td>1.317891e+06</td>\n",
       "      <td>4.392970</td>\n",
       "    </tr>\n",
       "    <tr>\n",
       "      <th>5</th>\n",
       "      <td>DeCenter AI</td>\n",
       "      <td>1.362263e+06</td>\n",
       "      <td>4.540878</td>\n",
       "      <td>1.497140e+06</td>\n",
       "      <td>4.990466</td>\n",
       "      <td>1.346620e+06</td>\n",
       "      <td>4.488734</td>\n",
       "    </tr>\n",
       "    <tr>\n",
       "      <th>6</th>\n",
       "      <td>Domin Network: Open Network for Retail powered...</td>\n",
       "      <td>1.070490e+06</td>\n",
       "      <td>3.568301</td>\n",
       "      <td>1.044986e+06</td>\n",
       "      <td>3.483288</td>\n",
       "      <td>8.197662e+05</td>\n",
       "      <td>2.732554</td>\n",
       "    </tr>\n",
       "    <tr>\n",
       "      <th>7</th>\n",
       "      <td>FlipGuard</td>\n",
       "      <td>1.213057e+06</td>\n",
       "      <td>4.043525</td>\n",
       "      <td>1.043918e+06</td>\n",
       "      <td>3.479728</td>\n",
       "      <td>9.425812e+05</td>\n",
       "      <td>3.141937</td>\n",
       "    </tr>\n",
       "    <tr>\n",
       "      <th>8</th>\n",
       "      <td>Glo Dollar</td>\n",
       "      <td>1.177466e+06</td>\n",
       "      <td>3.924887</td>\n",
       "      <td>1.146706e+06</td>\n",
       "      <td>3.822352</td>\n",
       "      <td>9.672222e+05</td>\n",
       "      <td>3.224074</td>\n",
       "    </tr>\n",
       "    <tr>\n",
       "      <th>9</th>\n",
       "      <td>Lorefy</td>\n",
       "      <td>1.149878e+06</td>\n",
       "      <td>3.832926</td>\n",
       "      <td>1.143691e+06</td>\n",
       "      <td>3.812305</td>\n",
       "      <td>9.642480e+05</td>\n",
       "      <td>3.214160</td>\n",
       "    </tr>\n",
       "    <tr>\n",
       "      <th>10</th>\n",
       "      <td>Mande Network</td>\n",
       "      <td>2.540947e+06</td>\n",
       "      <td>8.469823</td>\n",
       "      <td>3.328654e+06</td>\n",
       "      <td>11.095515</td>\n",
       "      <td>4.450226e+06</td>\n",
       "      <td>14.834086</td>\n",
       "    </tr>\n",
       "    <tr>\n",
       "      <th>11</th>\n",
       "      <td>Nodies</td>\n",
       "      <td>1.117608e+06</td>\n",
       "      <td>3.725359</td>\n",
       "      <td>1.012044e+06</td>\n",
       "      <td>3.373479</td>\n",
       "      <td>7.584594e+05</td>\n",
       "      <td>2.528198</td>\n",
       "    </tr>\n",
       "    <tr>\n",
       "      <th>12</th>\n",
       "      <td>OnChainVision</td>\n",
       "      <td>1.359253e+06</td>\n",
       "      <td>4.530842</td>\n",
       "      <td>1.097594e+06</td>\n",
       "      <td>3.658646</td>\n",
       "      <td>1.501077e+06</td>\n",
       "      <td>5.003589</td>\n",
       "    </tr>\n",
       "    <tr>\n",
       "      <th>13</th>\n",
       "      <td>Pheasant Network</td>\n",
       "      <td>1.788625e+06</td>\n",
       "      <td>5.962083</td>\n",
       "      <td>2.187539e+06</td>\n",
       "      <td>7.291795</td>\n",
       "      <td>3.103427e+06</td>\n",
       "      <td>10.344756</td>\n",
       "    </tr>\n",
       "    <tr>\n",
       "      <th>14</th>\n",
       "      <td>Polygon ALT IDM</td>\n",
       "      <td>1.163225e+06</td>\n",
       "      <td>3.877418</td>\n",
       "      <td>1.105611e+06</td>\n",
       "      <td>3.685370</td>\n",
       "      <td>9.261114e+05</td>\n",
       "      <td>3.087038</td>\n",
       "    </tr>\n",
       "    <tr>\n",
       "      <th>15</th>\n",
       "      <td>Polyzoa - Scam Defender</td>\n",
       "      <td>1.757933e+06</td>\n",
       "      <td>5.859777</td>\n",
       "      <td>2.048558e+06</td>\n",
       "      <td>6.828526</td>\n",
       "      <td>2.333683e+06</td>\n",
       "      <td>7.778943</td>\n",
       "    </tr>\n",
       "    <tr>\n",
       "      <th>16</th>\n",
       "      <td>Porfo</td>\n",
       "      <td>1.612600e+06</td>\n",
       "      <td>5.375332</td>\n",
       "      <td>1.275535e+06</td>\n",
       "      <td>4.251782</td>\n",
       "      <td>1.340154e+06</td>\n",
       "      <td>4.467181</td>\n",
       "    </tr>\n",
       "    <tr>\n",
       "      <th>17</th>\n",
       "      <td>Scale3</td>\n",
       "      <td>1.292403e+06</td>\n",
       "      <td>4.308010</td>\n",
       "      <td>1.268530e+06</td>\n",
       "      <td>4.228432</td>\n",
       "      <td>1.431062e+06</td>\n",
       "      <td>4.770207</td>\n",
       "    </tr>\n",
       "    <tr>\n",
       "      <th>18</th>\n",
       "      <td>SmartMuv (Dapp Explorer)</td>\n",
       "      <td>1.057543e+06</td>\n",
       "      <td>3.525142</td>\n",
       "      <td>9.565934e+05</td>\n",
       "      <td>3.188645</td>\n",
       "      <td>7.456636e+05</td>\n",
       "      <td>2.485545</td>\n",
       "    </tr>\n",
       "    <tr>\n",
       "      <th>19</th>\n",
       "      <td>THX Network</td>\n",
       "      <td>1.064073e+06</td>\n",
       "      <td>3.546911</td>\n",
       "      <td>9.664133e+05</td>\n",
       "      <td>3.221378</td>\n",
       "      <td>8.052535e+05</td>\n",
       "      <td>2.684178</td>\n",
       "    </tr>\n",
       "    <tr>\n",
       "      <th>20</th>\n",
       "      <td>Unitap</td>\n",
       "      <td>1.372867e+06</td>\n",
       "      <td>4.576222</td>\n",
       "      <td>1.509828e+06</td>\n",
       "      <td>5.032759</td>\n",
       "      <td>1.282039e+06</td>\n",
       "      <td>4.273462</td>\n",
       "    </tr>\n",
       "    <tr>\n",
       "      <th>21</th>\n",
       "      <td>jpnft</td>\n",
       "      <td>3.100638e+05</td>\n",
       "      <td>1.033546</td>\n",
       "      <td>5.830480e+04</td>\n",
       "      <td>0.194349</td>\n",
       "      <td>6.427017e+04</td>\n",
       "      <td>0.214234</td>\n",
       "    </tr>\n",
       "    <tr>\n",
       "      <th>22</th>\n",
       "      <td>pier wallet - account abstraction infrastructu...</td>\n",
       "      <td>1.023161e+06</td>\n",
       "      <td>3.410536</td>\n",
       "      <td>9.190223e+05</td>\n",
       "      <td>3.063408</td>\n",
       "      <td>7.061752e+05</td>\n",
       "      <td>2.353917</td>\n",
       "    </tr>\n",
       "  </tbody>\n",
       "</table>\n",
       "</div>"
      ],
      "text/plain": [
       "                                         project_name  matching_amount_cocm  \\\n",
       "0                                         0xRivendell          1.231376e+06   \n",
       "1                                       1Hive Gardens          1.049499e+06   \n",
       "2                                         BayaniChain          1.615340e+06   \n",
       "3   Citizen Wallet: an open source wallet with acc...          1.209375e+06   \n",
       "4                                       Commons Stack          1.460955e+06   \n",
       "5                                         DeCenter AI          1.362263e+06   \n",
       "6   Domin Network: Open Network for Retail powered...          1.070490e+06   \n",
       "7                                           FlipGuard          1.213057e+06   \n",
       "8                                          Glo Dollar          1.177466e+06   \n",
       "9                                              Lorefy          1.149878e+06   \n",
       "10                                      Mande Network          2.540947e+06   \n",
       "11                                             Nodies          1.117608e+06   \n",
       "12                                      OnChainVision          1.359253e+06   \n",
       "13                                   Pheasant Network          1.788625e+06   \n",
       "14                                    Polygon ALT IDM          1.163225e+06   \n",
       "15                            Polyzoa - Scam Defender          1.757933e+06   \n",
       "16                                             Porfo           1.612600e+06   \n",
       "17                                             Scale3          1.292403e+06   \n",
       "18                           SmartMuv (Dapp Explorer)          1.057543e+06   \n",
       "19                                        THX Network          1.064073e+06   \n",
       "20                                             Unitap          1.372867e+06   \n",
       "21                                              jpnft          3.100638e+05   \n",
       "22  pier wallet - account abstraction infrastructu...          1.023161e+06   \n",
       "\n",
       "    matching_percent_cocm  matching_amount_dpcm  matching_percent_dpcm  \\\n",
       "0                4.104586          1.272051e+06               4.240169   \n",
       "1                3.498329          8.541815e+05               2.847272   \n",
       "2                5.384466          1.334444e+06               4.448147   \n",
       "3                4.031249          1.264694e+06               4.215647   \n",
       "4                4.869852          1.663964e+06               5.546546   \n",
       "5                4.540878          1.497140e+06               4.990466   \n",
       "6                3.568301          1.044986e+06               3.483288   \n",
       "7                4.043525          1.043918e+06               3.479728   \n",
       "8                3.924887          1.146706e+06               3.822352   \n",
       "9                3.832926          1.143691e+06               3.812305   \n",
       "10               8.469823          3.328654e+06              11.095515   \n",
       "11               3.725359          1.012044e+06               3.373479   \n",
       "12               4.530842          1.097594e+06               3.658646   \n",
       "13               5.962083          2.187539e+06               7.291795   \n",
       "14               3.877418          1.105611e+06               3.685370   \n",
       "15               5.859777          2.048558e+06               6.828526   \n",
       "16               5.375332          1.275535e+06               4.251782   \n",
       "17               4.308010          1.268530e+06               4.228432   \n",
       "18               3.525142          9.565934e+05               3.188645   \n",
       "19               3.546911          9.664133e+05               3.221378   \n",
       "20               4.576222          1.509828e+06               5.032759   \n",
       "21               1.033546          5.830480e+04               0.194349   \n",
       "22               3.410536          9.190223e+05               3.063408   \n",
       "\n",
       "    matching_amount  matching_percent  \n",
       "0      1.058334e+06          3.527781  \n",
       "1      7.611473e+05          2.537158  \n",
       "2      1.390506e+06          4.635021  \n",
       "3      9.840828e+05          3.280276  \n",
       "4      1.317891e+06          4.392970  \n",
       "5      1.346620e+06          4.488734  \n",
       "6      8.197662e+05          2.732554  \n",
       "7      9.425812e+05          3.141937  \n",
       "8      9.672222e+05          3.224074  \n",
       "9      9.642480e+05          3.214160  \n",
       "10     4.450226e+06         14.834086  \n",
       "11     7.584594e+05          2.528198  \n",
       "12     1.501077e+06          5.003589  \n",
       "13     3.103427e+06         10.344756  \n",
       "14     9.261114e+05          3.087038  \n",
       "15     2.333683e+06          7.778943  \n",
       "16     1.340154e+06          4.467181  \n",
       "17     1.431062e+06          4.770207  \n",
       "18     7.456636e+05          2.485545  \n",
       "19     8.052535e+05          2.684178  \n",
       "20     1.282039e+06          4.273462  \n",
       "21     6.427017e+04          0.214234  \n",
       "22     7.061752e+05          2.353917  "
      ]
     },
     "execution_count": 11,
     "metadata": {},
     "output_type": "execute_result"
    }
   ],
   "source": [
    "cocm = qfutils.get_qf_matching('COCM', votes_df, 100, MATCHING_AMOUNT, cluster_df = votes_df)\n",
    "dpcm = qfutils.get_qf_matching('donation_profile_clustermatch', votes_df, 100, MATCHING_AMOUNT, cluster_df = votes_df)\n",
    "std = qfutils.get_qf_matching('qf', votes_df, 100, MATCHING_AMOUNT, cluster_df = votes_df)\n",
    "\n",
    "qf_results_df = pd.merge(cocm, dpcm, on = 'project_name', suffixes = ('_cocm', '_dpcm'))\n",
    "qf_results_df = pd.merge(qf_results_df, std, on = 'project_name')\n",
    "qf_results_df"
   ]
  },
  {
   "cell_type": "code",
   "execution_count": 12,
   "metadata": {},
   "outputs": [
    {
     "name": "stderr",
     "output_type": "stream",
     "text": [
      "/Users/umarkhan/Documents/GitHub/rpgf-cluster-matching/qfutils.py:373: FutureWarning:\n",
      "\n",
      "iteritems is deprecated and will be removed in a future version. Use .items instead.\n",
      "\n"
     ]
    },
    {
     "data": {
      "application/vnd.plotly.v1+json": {
       "config": {
        "plotlyServerURL": "https://plot.ly"
       },
       "data": [
        {
         "colorscale": [
          [
           0,
           "rgb(255,245,240)"
          ],
          [
           0.125,
           "rgb(254,224,210)"
          ],
          [
           0.25,
           "rgb(252,187,161)"
          ],
          [
           0.375,
           "rgb(252,146,114)"
          ],
          [
           0.5,
           "rgb(251,106,74)"
          ],
          [
           0.625,
           "rgb(239,59,44)"
          ],
          [
           0.75,
           "rgb(203,24,29)"
          ],
          [
           0.875,
           "rgb(165,15,21)"
          ],
          [
           1,
           "rgb(103,0,13)"
          ]
         ],
         "hoverongaps": false,
         "hovertemplate": "<i>Overlap</i>: %{z:.2f}%<extra></extra>",
         "type": "heatmap",
         "x": [
          "SmartMuv (Dapp ...",
          "pier wallet - a...",
          "Nodies",
          "Domin Network: ...",
          "Porfo ",
          "1Hive Gardens",
          "Glo Dollar",
          "Citizen Wallet:...",
          "FlipGuard",
          "THX Network"
         ],
         "y": [
          "SmartMuv (Dapp ...",
          "pier wallet - a...",
          "Nodies",
          "Domin Network: ...",
          "Porfo ",
          "1Hive Gardens",
          "Glo Dollar",
          "Citizen Wallet:...",
          "FlipGuard",
          "THX Network"
         ],
         "z": [
          [
           0,
           45.211389128559105,
           43.34442595673877,
           42.59109311740891,
           42.33278955954323,
           44.37819420783646,
           44.33497536945813,
           42.92527821939587,
           44.11522633744856,
           41.27764127764127
          ],
          [
           45.211389128559105,
           0,
           42.78523489932886,
           42.27309893704007,
           44.87394957983194,
           42.95473953885568,
           43.080724876441515,
           43.190975020145046,
           42.03612479474548,
           43.91891891891892
          ],
          [
           43.34442595673877,
           42.78523489932886,
           0,
           45.069274653626735,
           42.83400809716599,
           42.004971002485505,
           41.14376489277204,
           43.18360914105595,
           41.03585657370518,
           42.367346938775505
          ],
          [
           42.59109311740891,
           42.27309893704007,
           45.069274653626735,
           0,
           41.66666666666667,
           40.38461538461539,
           39.93831919814957,
           42.80215550423402,
           42.586750788643535,
           41.766109785202865
          ],
          [
           42.33278955954323,
           44.87394957983194,
           42.83400809716599,
           41.66666666666667,
           0,
           41.9460343417825,
           43.00476947535771,
           44.122257053291534,
           42.788844621513945,
           41.61988773055333
          ],
          [
           44.37819420783646,
           42.95473953885568,
           42.004971002485505,
           40.38461538461539,
           41.9460343417825,
           0,
           43.95061728395061,
           40.86614173228346,
           42.204081632653065,
           40.77112387202625
          ],
          [
           44.33497536945813,
           43.080724876441515,
           41.14376489277204,
           39.93831919814957,
           43.00476947535771,
           43.95061728395061,
           0,
           41.91570881226054,
           41.23630672926448,
           41.64012738853503
          ],
          [
           42.92527821939587,
           43.190975020145046,
           43.18360914105595,
           42.80215550423402,
           44.122257053291534,
           40.86614173228346,
           41.91570881226054,
           0,
           39.455782312925166,
           41.66666666666667
          ],
          [
           44.11522633744856,
           42.03612479474548,
           41.03585657370518,
           42.586750788643535,
           42.788844621513945,
           42.204081632653065,
           41.23630672926448,
           39.455782312925166,
           0,
           41.082802547770704
          ],
          [
           41.27764127764127,
           43.91891891891892,
           42.367346938775505,
           41.766109785202865,
           41.61988773055333,
           40.77112387202625,
           41.64012738853503,
           41.66666666666667,
           41.082802547770704,
           0
          ]
         ]
        }
       ],
       "layout": {
        "template": {
         "data": {
          "bar": [
           {
            "error_x": {
             "color": "#2a3f5f"
            },
            "error_y": {
             "color": "#2a3f5f"
            },
            "marker": {
             "line": {
              "color": "#E5ECF6",
              "width": 0.5
             },
             "pattern": {
              "fillmode": "overlay",
              "size": 10,
              "solidity": 0.2
             }
            },
            "type": "bar"
           }
          ],
          "barpolar": [
           {
            "marker": {
             "line": {
              "color": "#E5ECF6",
              "width": 0.5
             },
             "pattern": {
              "fillmode": "overlay",
              "size": 10,
              "solidity": 0.2
             }
            },
            "type": "barpolar"
           }
          ],
          "carpet": [
           {
            "aaxis": {
             "endlinecolor": "#2a3f5f",
             "gridcolor": "white",
             "linecolor": "white",
             "minorgridcolor": "white",
             "startlinecolor": "#2a3f5f"
            },
            "baxis": {
             "endlinecolor": "#2a3f5f",
             "gridcolor": "white",
             "linecolor": "white",
             "minorgridcolor": "white",
             "startlinecolor": "#2a3f5f"
            },
            "type": "carpet"
           }
          ],
          "choropleth": [
           {
            "colorbar": {
             "outlinewidth": 0,
             "ticks": ""
            },
            "type": "choropleth"
           }
          ],
          "contour": [
           {
            "colorbar": {
             "outlinewidth": 0,
             "ticks": ""
            },
            "colorscale": [
             [
              0,
              "#0d0887"
             ],
             [
              0.1111111111111111,
              "#46039f"
             ],
             [
              0.2222222222222222,
              "#7201a8"
             ],
             [
              0.3333333333333333,
              "#9c179e"
             ],
             [
              0.4444444444444444,
              "#bd3786"
             ],
             [
              0.5555555555555556,
              "#d8576b"
             ],
             [
              0.6666666666666666,
              "#ed7953"
             ],
             [
              0.7777777777777778,
              "#fb9f3a"
             ],
             [
              0.8888888888888888,
              "#fdca26"
             ],
             [
              1,
              "#f0f921"
             ]
            ],
            "type": "contour"
           }
          ],
          "contourcarpet": [
           {
            "colorbar": {
             "outlinewidth": 0,
             "ticks": ""
            },
            "type": "contourcarpet"
           }
          ],
          "heatmap": [
           {
            "colorbar": {
             "outlinewidth": 0,
             "ticks": ""
            },
            "colorscale": [
             [
              0,
              "#0d0887"
             ],
             [
              0.1111111111111111,
              "#46039f"
             ],
             [
              0.2222222222222222,
              "#7201a8"
             ],
             [
              0.3333333333333333,
              "#9c179e"
             ],
             [
              0.4444444444444444,
              "#bd3786"
             ],
             [
              0.5555555555555556,
              "#d8576b"
             ],
             [
              0.6666666666666666,
              "#ed7953"
             ],
             [
              0.7777777777777778,
              "#fb9f3a"
             ],
             [
              0.8888888888888888,
              "#fdca26"
             ],
             [
              1,
              "#f0f921"
             ]
            ],
            "type": "heatmap"
           }
          ],
          "heatmapgl": [
           {
            "colorbar": {
             "outlinewidth": 0,
             "ticks": ""
            },
            "colorscale": [
             [
              0,
              "#0d0887"
             ],
             [
              0.1111111111111111,
              "#46039f"
             ],
             [
              0.2222222222222222,
              "#7201a8"
             ],
             [
              0.3333333333333333,
              "#9c179e"
             ],
             [
              0.4444444444444444,
              "#bd3786"
             ],
             [
              0.5555555555555556,
              "#d8576b"
             ],
             [
              0.6666666666666666,
              "#ed7953"
             ],
             [
              0.7777777777777778,
              "#fb9f3a"
             ],
             [
              0.8888888888888888,
              "#fdca26"
             ],
             [
              1,
              "#f0f921"
             ]
            ],
            "type": "heatmapgl"
           }
          ],
          "histogram": [
           {
            "marker": {
             "pattern": {
              "fillmode": "overlay",
              "size": 10,
              "solidity": 0.2
             }
            },
            "type": "histogram"
           }
          ],
          "histogram2d": [
           {
            "colorbar": {
             "outlinewidth": 0,
             "ticks": ""
            },
            "colorscale": [
             [
              0,
              "#0d0887"
             ],
             [
              0.1111111111111111,
              "#46039f"
             ],
             [
              0.2222222222222222,
              "#7201a8"
             ],
             [
              0.3333333333333333,
              "#9c179e"
             ],
             [
              0.4444444444444444,
              "#bd3786"
             ],
             [
              0.5555555555555556,
              "#d8576b"
             ],
             [
              0.6666666666666666,
              "#ed7953"
             ],
             [
              0.7777777777777778,
              "#fb9f3a"
             ],
             [
              0.8888888888888888,
              "#fdca26"
             ],
             [
              1,
              "#f0f921"
             ]
            ],
            "type": "histogram2d"
           }
          ],
          "histogram2dcontour": [
           {
            "colorbar": {
             "outlinewidth": 0,
             "ticks": ""
            },
            "colorscale": [
             [
              0,
              "#0d0887"
             ],
             [
              0.1111111111111111,
              "#46039f"
             ],
             [
              0.2222222222222222,
              "#7201a8"
             ],
             [
              0.3333333333333333,
              "#9c179e"
             ],
             [
              0.4444444444444444,
              "#bd3786"
             ],
             [
              0.5555555555555556,
              "#d8576b"
             ],
             [
              0.6666666666666666,
              "#ed7953"
             ],
             [
              0.7777777777777778,
              "#fb9f3a"
             ],
             [
              0.8888888888888888,
              "#fdca26"
             ],
             [
              1,
              "#f0f921"
             ]
            ],
            "type": "histogram2dcontour"
           }
          ],
          "mesh3d": [
           {
            "colorbar": {
             "outlinewidth": 0,
             "ticks": ""
            },
            "type": "mesh3d"
           }
          ],
          "parcoords": [
           {
            "line": {
             "colorbar": {
              "outlinewidth": 0,
              "ticks": ""
             }
            },
            "type": "parcoords"
           }
          ],
          "pie": [
           {
            "automargin": true,
            "type": "pie"
           }
          ],
          "scatter": [
           {
            "fillpattern": {
             "fillmode": "overlay",
             "size": 10,
             "solidity": 0.2
            },
            "type": "scatter"
           }
          ],
          "scatter3d": [
           {
            "line": {
             "colorbar": {
              "outlinewidth": 0,
              "ticks": ""
             }
            },
            "marker": {
             "colorbar": {
              "outlinewidth": 0,
              "ticks": ""
             }
            },
            "type": "scatter3d"
           }
          ],
          "scattercarpet": [
           {
            "marker": {
             "colorbar": {
              "outlinewidth": 0,
              "ticks": ""
             }
            },
            "type": "scattercarpet"
           }
          ],
          "scattergeo": [
           {
            "marker": {
             "colorbar": {
              "outlinewidth": 0,
              "ticks": ""
             }
            },
            "type": "scattergeo"
           }
          ],
          "scattergl": [
           {
            "marker": {
             "colorbar": {
              "outlinewidth": 0,
              "ticks": ""
             }
            },
            "type": "scattergl"
           }
          ],
          "scattermapbox": [
           {
            "marker": {
             "colorbar": {
              "outlinewidth": 0,
              "ticks": ""
             }
            },
            "type": "scattermapbox"
           }
          ],
          "scatterpolar": [
           {
            "marker": {
             "colorbar": {
              "outlinewidth": 0,
              "ticks": ""
             }
            },
            "type": "scatterpolar"
           }
          ],
          "scatterpolargl": [
           {
            "marker": {
             "colorbar": {
              "outlinewidth": 0,
              "ticks": ""
             }
            },
            "type": "scatterpolargl"
           }
          ],
          "scatterternary": [
           {
            "marker": {
             "colorbar": {
              "outlinewidth": 0,
              "ticks": ""
             }
            },
            "type": "scatterternary"
           }
          ],
          "surface": [
           {
            "colorbar": {
             "outlinewidth": 0,
             "ticks": ""
            },
            "colorscale": [
             [
              0,
              "#0d0887"
             ],
             [
              0.1111111111111111,
              "#46039f"
             ],
             [
              0.2222222222222222,
              "#7201a8"
             ],
             [
              0.3333333333333333,
              "#9c179e"
             ],
             [
              0.4444444444444444,
              "#bd3786"
             ],
             [
              0.5555555555555556,
              "#d8576b"
             ],
             [
              0.6666666666666666,
              "#ed7953"
             ],
             [
              0.7777777777777778,
              "#fb9f3a"
             ],
             [
              0.8888888888888888,
              "#fdca26"
             ],
             [
              1,
              "#f0f921"
             ]
            ],
            "type": "surface"
           }
          ],
          "table": [
           {
            "cells": {
             "fill": {
              "color": "#EBF0F8"
             },
             "line": {
              "color": "white"
             }
            },
            "header": {
             "fill": {
              "color": "#C8D4E3"
             },
             "line": {
              "color": "white"
             }
            },
            "type": "table"
           }
          ]
         },
         "layout": {
          "annotationdefaults": {
           "arrowcolor": "#2a3f5f",
           "arrowhead": 0,
           "arrowwidth": 1
          },
          "autotypenumbers": "strict",
          "coloraxis": {
           "colorbar": {
            "outlinewidth": 0,
            "ticks": ""
           }
          },
          "colorscale": {
           "diverging": [
            [
             0,
             "#8e0152"
            ],
            [
             0.1,
             "#c51b7d"
            ],
            [
             0.2,
             "#de77ae"
            ],
            [
             0.3,
             "#f1b6da"
            ],
            [
             0.4,
             "#fde0ef"
            ],
            [
             0.5,
             "#f7f7f7"
            ],
            [
             0.6,
             "#e6f5d0"
            ],
            [
             0.7,
             "#b8e186"
            ],
            [
             0.8,
             "#7fbc41"
            ],
            [
             0.9,
             "#4d9221"
            ],
            [
             1,
             "#276419"
            ]
           ],
           "sequential": [
            [
             0,
             "#0d0887"
            ],
            [
             0.1111111111111111,
             "#46039f"
            ],
            [
             0.2222222222222222,
             "#7201a8"
            ],
            [
             0.3333333333333333,
             "#9c179e"
            ],
            [
             0.4444444444444444,
             "#bd3786"
            ],
            [
             0.5555555555555556,
             "#d8576b"
            ],
            [
             0.6666666666666666,
             "#ed7953"
            ],
            [
             0.7777777777777778,
             "#fb9f3a"
            ],
            [
             0.8888888888888888,
             "#fdca26"
            ],
            [
             1,
             "#f0f921"
            ]
           ],
           "sequentialminus": [
            [
             0,
             "#0d0887"
            ],
            [
             0.1111111111111111,
             "#46039f"
            ],
            [
             0.2222222222222222,
             "#7201a8"
            ],
            [
             0.3333333333333333,
             "#9c179e"
            ],
            [
             0.4444444444444444,
             "#bd3786"
            ],
            [
             0.5555555555555556,
             "#d8576b"
            ],
            [
             0.6666666666666666,
             "#ed7953"
            ],
            [
             0.7777777777777778,
             "#fb9f3a"
            ],
            [
             0.8888888888888888,
             "#fdca26"
            ],
            [
             1,
             "#f0f921"
            ]
           ]
          },
          "colorway": [
           "#636efa",
           "#EF553B",
           "#00cc96",
           "#ab63fa",
           "#FFA15A",
           "#19d3f3",
           "#FF6692",
           "#B6E880",
           "#FF97FF",
           "#FECB52"
          ],
          "font": {
           "color": "#2a3f5f"
          },
          "geo": {
           "bgcolor": "white",
           "lakecolor": "white",
           "landcolor": "#E5ECF6",
           "showlakes": true,
           "showland": true,
           "subunitcolor": "white"
          },
          "hoverlabel": {
           "align": "left"
          },
          "hovermode": "closest",
          "mapbox": {
           "style": "light"
          },
          "paper_bgcolor": "white",
          "plot_bgcolor": "#E5ECF6",
          "polar": {
           "angularaxis": {
            "gridcolor": "white",
            "linecolor": "white",
            "ticks": ""
           },
           "bgcolor": "#E5ECF6",
           "radialaxis": {
            "gridcolor": "white",
            "linecolor": "white",
            "ticks": ""
           }
          },
          "scene": {
           "xaxis": {
            "backgroundcolor": "#E5ECF6",
            "gridcolor": "white",
            "gridwidth": 2,
            "linecolor": "white",
            "showbackground": true,
            "ticks": "",
            "zerolinecolor": "white"
           },
           "yaxis": {
            "backgroundcolor": "#E5ECF6",
            "gridcolor": "white",
            "gridwidth": 2,
            "linecolor": "white",
            "showbackground": true,
            "ticks": "",
            "zerolinecolor": "white"
           },
           "zaxis": {
            "backgroundcolor": "#E5ECF6",
            "gridcolor": "white",
            "gridwidth": 2,
            "linecolor": "white",
            "showbackground": true,
            "ticks": "",
            "zerolinecolor": "white"
           }
          },
          "shapedefaults": {
           "line": {
            "color": "#2a3f5f"
           }
          },
          "ternary": {
           "aaxis": {
            "gridcolor": "white",
            "linecolor": "white",
            "ticks": ""
           },
           "baxis": {
            "gridcolor": "white",
            "linecolor": "white",
            "ticks": ""
           },
           "bgcolor": "#E5ECF6",
           "caxis": {
            "gridcolor": "white",
            "linecolor": "white",
            "ticks": ""
           }
          },
          "title": {
           "x": 0.05
          },
          "xaxis": {
           "automargin": true,
           "gridcolor": "white",
           "linecolor": "white",
           "ticks": "",
           "title": {
            "standoff": 15
           },
           "zerolinecolor": "white",
           "zerolinewidth": 2
          },
          "yaxis": {
           "automargin": true,
           "gridcolor": "white",
           "linecolor": "white",
           "ticks": "",
           "title": {
            "standoff": 15
           },
           "zerolinecolor": "white",
           "zerolinewidth": 2
          }
         }
        },
        "title": {
         "text": "Top Overlap in Voters Per Pair of Projects"
        },
        "xaxis": {
         "nticks": 36
        }
       }
      }
     },
     "metadata": {},
     "output_type": "display_data"
    }
   ],
   "source": [
    "fig, overlap_df = qfutils.create_voter_overlap_heatmap(df)\n",
    "fig.show()"
   ]
  },
  {
   "cell_type": "code",
   "execution_count": 13,
   "metadata": {},
   "outputs": [],
   "source": [
    "qf_results_df.to_csv(f'{file_prefix}_qf_results.csv', index = False)\n",
    "overlap_df.to_csv(f'{file_prefix}_voter_overlap.csv', index = False)"
   ]
  }
 ],
 "metadata": {
  "kernelspec": {
   "display_name": "base",
   "language": "python",
   "name": "python3"
  },
  "language_info": {
   "codemirror_mode": {
    "name": "ipython",
    "version": 3
   },
   "file_extension": ".py",
   "mimetype": "text/x-python",
   "name": "python",
   "nbconvert_exporter": "python",
   "pygments_lexer": "ipython3",
   "version": "3.10.11"
  }
 },
 "nbformat": 4,
 "nbformat_minor": 2
}
